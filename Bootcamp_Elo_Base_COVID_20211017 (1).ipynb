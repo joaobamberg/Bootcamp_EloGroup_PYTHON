{
  "nbformat": 4,
  "nbformat_minor": 0,
  "metadata": {
    "colab": {
      "name": "Bootcamp Elo - Base COVID_20211017.ipynb",
      "provenance": [],
      "collapsed_sections": [
        "sRifqfbX4WwQ",
        "ND0YNns_gekp",
        "r2_RavkWogt7",
        "fsfXLR4hWbcQ",
        "GBfkKovBWiAf",
        "cwbcSYDdWtGL",
        "KyOLHgy5XD6I",
        "ScMRu_17XVnJ",
        "sfYG10WPXpFd",
        "FxZswp6rK7In",
        "Aav7AVjtZsu1",
        "UwAZT6RXWjbN",
        "uRuzBcm51788",
        "xdsMoPILkP-8",
        "qTOnlBfhm9ek",
        "tnKtMwwix8z5",
        "Qy4uU8EnWMvw",
        "qCc4D5AaTo7D",
        "ztWqtNwCy8ZN",
        "GhdniEL33yJk",
        "8B5gzclaZY1z"
      ],
      "toc_visible": true
    },
    "kernelspec": {
      "display_name": "Python 3",
      "name": "python3"
    },
    "language_info": {
      "name": "python"
    }
  },
  "cells": [
    {
      "cell_type": "markdown",
      "source": [
        "Oi Pessoal! Esse é um projeto que realizamos no bootcamp de data science da EloGroup. Nos ofertaram algumas bases bem grandes sobre COVID no Brasil e sua evolução. A ideia era realizar todo ETL, Análise exploratoria e extrair os insights mais significantes."
      ],
      "metadata": {
        "id": "91flroQIbFct"
      }
    },
    {
      "cell_type": "markdown",
      "metadata": {
        "id": "sRifqfbX4WwQ"
      },
      "source": [
        "# Mapeamento\n"
      ]
    },
    {
      "cell_type": "markdown",
      "metadata": {
        "id": "h-XVRwrM4I8G"
      },
      "source": [
        "**Temas propostos:**\n",
        "\n",
        "Economia - Entender os segmentos de negócio impactados no Estado mais afetado pelo Covid e também nos TOP 5 Municipios mais afetados. #Oportunidades de negócio\n"
      ]
    },
    {
      "cell_type": "markdown",
      "metadata": {
        "id": "H5PQwEem7i1n"
      },
      "source": [
        "**Hipoteses**: {Dono da analise: Resumo}"
      ]
    },
    {
      "cell_type": "markdown",
      "metadata": {
        "id": "EuFGerS14iCf"
      },
      "source": [
        "**Bases**: \n",
        "**Covid- 19**: Elo Group |   \n",
        "**Dados Abertos da receita federal sobre alterações em CNPJ - GOV.BR**: https://www.gov.br/receitafederal/pt-br/assuntos/orientacao-tributaria/cadastros/consultas/dados-publicos-cnpj\n",
        "\n",
        "** Tabela da receita federal com listagem de municipios**: http://200.152.38.155/CNPJ/F.K03200$Z.D10911.MUNICCSV.zip\n",
        "\n",
        "** Tabela da receita federal com listagem de CNAEs**: http://200.152.38.155/CNPJ/F.K03200$Z.D10911.CNAECSV.zip"
      ]
    },
    {
      "cell_type": "markdown",
      "metadata": {
        "id": "ND0YNns_gekp"
      },
      "source": [
        "## Mindmap"
      ]
    },
    {
      "cell_type": "markdown",
      "metadata": {
        "id": "Ea0iVqWngibQ"
      },
      "source": [
        "https://miro.com/welcomeonboard/N0Z0cUFUbGxscmNnOHlmeGFwZHpQM1hVb0V0cVJwODBWOE04ZXpkYTh2emxMMTRzdjYwNlV3a2ZkSDc5VHJZV3wzMDc0NDU3MzY1MTg0NTgyODk3?invite_link_id=123999546158\n",
        "\n"
      ]
    },
    {
      "cell_type": "markdown",
      "metadata": {
        "id": "r2_RavkWogt7"
      },
      "source": [
        "# Bibliotecas"
      ]
    },
    {
      "cell_type": "code",
      "metadata": {
        "id": "JqpRHBDOokFa"
      },
      "source": [
        "import pandas as pd\n",
        "import os\n",
        "import matplotlib as plt\n",
        "import numpy as np\n",
        "import random\n",
        "import math"
      ],
      "execution_count": null,
      "outputs": []
    },
    {
      "cell_type": "markdown",
      "metadata": {
        "id": "fsfXLR4hWbcQ"
      },
      "source": [
        "# Importação dos dados"
      ]
    },
    {
      "cell_type": "code",
      "metadata": {
        "colab": {
          "base_uri": "https://localhost:8080/",
          "height": 363
        },
        "id": "Rq-9eOXUm_Io",
        "outputId": "7bbd26d4-54b1-4986-d74c-06c0f0c3a45f"
      },
      "source": [
        "from google.colab import drive\n",
        "drive.mount('/content/drive', force_remount=True)\n",
        "\n",
        "df = pd.read_csv(\"/content/drive/MyDrive/Base - COVID/caso_full.csv\")"
      ],
      "execution_count": null,
      "outputs": [
        {
          "output_type": "error",
          "ename": "MessageError",
          "evalue": "ignored",
          "traceback": [
            "\u001b[0;31m---------------------------------------------------------------------------\u001b[0m",
            "\u001b[0;31mMessageError\u001b[0m                              Traceback (most recent call last)",
            "\u001b[0;32m<ipython-input-4-3f7540dbab37>\u001b[0m in \u001b[0;36m<module>\u001b[0;34m()\u001b[0m\n\u001b[1;32m      1\u001b[0m \u001b[0;32mfrom\u001b[0m \u001b[0mgoogle\u001b[0m\u001b[0;34m.\u001b[0m\u001b[0mcolab\u001b[0m \u001b[0;32mimport\u001b[0m \u001b[0mdrive\u001b[0m\u001b[0;34m\u001b[0m\u001b[0;34m\u001b[0m\u001b[0m\n\u001b[0;32m----> 2\u001b[0;31m \u001b[0mdrive\u001b[0m\u001b[0;34m.\u001b[0m\u001b[0mmount\u001b[0m\u001b[0;34m(\u001b[0m\u001b[0;34m'/content/drive'\u001b[0m\u001b[0;34m,\u001b[0m \u001b[0mforce_remount\u001b[0m\u001b[0;34m=\u001b[0m\u001b[0;32mTrue\u001b[0m\u001b[0;34m)\u001b[0m\u001b[0;34m\u001b[0m\u001b[0;34m\u001b[0m\u001b[0m\n\u001b[0m\u001b[1;32m      3\u001b[0m \u001b[0;34m\u001b[0m\u001b[0m\n\u001b[1;32m      4\u001b[0m \u001b[0mdf\u001b[0m \u001b[0;34m=\u001b[0m \u001b[0mpd\u001b[0m\u001b[0;34m.\u001b[0m\u001b[0mread_csv\u001b[0m\u001b[0;34m(\u001b[0m\u001b[0;34m\"/content/drive/MyDrive/Base - COVID/caso_full.csv\"\u001b[0m\u001b[0;34m)\u001b[0m\u001b[0;34m\u001b[0m\u001b[0;34m\u001b[0m\u001b[0m\n",
            "\u001b[0;32m/usr/local/lib/python3.7/dist-packages/google/colab/drive.py\u001b[0m in \u001b[0;36mmount\u001b[0;34m(mountpoint, force_remount, timeout_ms, use_metadata_server)\u001b[0m\n\u001b[1;32m    111\u001b[0m       \u001b[0mtimeout_ms\u001b[0m\u001b[0;34m=\u001b[0m\u001b[0mtimeout_ms\u001b[0m\u001b[0;34m,\u001b[0m\u001b[0;34m\u001b[0m\u001b[0;34m\u001b[0m\u001b[0m\n\u001b[1;32m    112\u001b[0m       \u001b[0muse_metadata_server\u001b[0m\u001b[0;34m=\u001b[0m\u001b[0muse_metadata_server\u001b[0m\u001b[0;34m,\u001b[0m\u001b[0;34m\u001b[0m\u001b[0;34m\u001b[0m\u001b[0m\n\u001b[0;32m--> 113\u001b[0;31m       ephemeral=ephemeral)\n\u001b[0m\u001b[1;32m    114\u001b[0m \u001b[0;34m\u001b[0m\u001b[0m\n\u001b[1;32m    115\u001b[0m \u001b[0;34m\u001b[0m\u001b[0m\n",
            "\u001b[0;32m/usr/local/lib/python3.7/dist-packages/google/colab/drive.py\u001b[0m in \u001b[0;36m_mount\u001b[0;34m(mountpoint, force_remount, timeout_ms, use_metadata_server, ephemeral)\u001b[0m\n\u001b[1;32m    134\u001b[0m   \u001b[0;32mif\u001b[0m \u001b[0mephemeral\u001b[0m\u001b[0;34m:\u001b[0m\u001b[0;34m\u001b[0m\u001b[0;34m\u001b[0m\u001b[0m\n\u001b[1;32m    135\u001b[0m     _message.blocking_request(\n\u001b[0;32m--> 136\u001b[0;31m         'request_auth', request={'authType': 'dfs_ephemeral'}, timeout_sec=None)\n\u001b[0m\u001b[1;32m    137\u001b[0m \u001b[0;34m\u001b[0m\u001b[0m\n\u001b[1;32m    138\u001b[0m   \u001b[0mmountpoint\u001b[0m \u001b[0;34m=\u001b[0m \u001b[0m_os\u001b[0m\u001b[0;34m.\u001b[0m\u001b[0mpath\u001b[0m\u001b[0;34m.\u001b[0m\u001b[0mexpanduser\u001b[0m\u001b[0;34m(\u001b[0m\u001b[0mmountpoint\u001b[0m\u001b[0;34m)\u001b[0m\u001b[0;34m\u001b[0m\u001b[0;34m\u001b[0m\u001b[0m\n",
            "\u001b[0;32m/usr/local/lib/python3.7/dist-packages/google/colab/_message.py\u001b[0m in \u001b[0;36mblocking_request\u001b[0;34m(request_type, request, timeout_sec, parent)\u001b[0m\n\u001b[1;32m    173\u001b[0m   request_id = send_request(\n\u001b[1;32m    174\u001b[0m       request_type, request, parent=parent, expect_reply=True)\n\u001b[0;32m--> 175\u001b[0;31m   \u001b[0;32mreturn\u001b[0m \u001b[0mread_reply_from_input\u001b[0m\u001b[0;34m(\u001b[0m\u001b[0mrequest_id\u001b[0m\u001b[0;34m,\u001b[0m \u001b[0mtimeout_sec\u001b[0m\u001b[0;34m)\u001b[0m\u001b[0;34m\u001b[0m\u001b[0;34m\u001b[0m\u001b[0m\n\u001b[0m",
            "\u001b[0;32m/usr/local/lib/python3.7/dist-packages/google/colab/_message.py\u001b[0m in \u001b[0;36mread_reply_from_input\u001b[0;34m(message_id, timeout_sec)\u001b[0m\n\u001b[1;32m    104\u001b[0m         reply.get('colab_msg_id') == message_id):\n\u001b[1;32m    105\u001b[0m       \u001b[0;32mif\u001b[0m \u001b[0;34m'error'\u001b[0m \u001b[0;32min\u001b[0m \u001b[0mreply\u001b[0m\u001b[0;34m:\u001b[0m\u001b[0;34m\u001b[0m\u001b[0;34m\u001b[0m\u001b[0m\n\u001b[0;32m--> 106\u001b[0;31m         \u001b[0;32mraise\u001b[0m \u001b[0mMessageError\u001b[0m\u001b[0;34m(\u001b[0m\u001b[0mreply\u001b[0m\u001b[0;34m[\u001b[0m\u001b[0;34m'error'\u001b[0m\u001b[0;34m]\u001b[0m\u001b[0;34m)\u001b[0m\u001b[0;34m\u001b[0m\u001b[0;34m\u001b[0m\u001b[0m\n\u001b[0m\u001b[1;32m    107\u001b[0m       \u001b[0;32mreturn\u001b[0m \u001b[0mreply\u001b[0m\u001b[0;34m.\u001b[0m\u001b[0mget\u001b[0m\u001b[0;34m(\u001b[0m\u001b[0;34m'data'\u001b[0m\u001b[0;34m,\u001b[0m \u001b[0;32mNone\u001b[0m\u001b[0;34m)\u001b[0m\u001b[0;34m\u001b[0m\u001b[0;34m\u001b[0m\u001b[0m\n\u001b[1;32m    108\u001b[0m \u001b[0;34m\u001b[0m\u001b[0m\n",
            "\u001b[0;31mMessageError\u001b[0m: Error: credential propagation was unsuccessful"
          ]
        }
      ]
    },
    {
      "cell_type": "markdown",
      "metadata": {
        "id": "GBfkKovBWiAf"
      },
      "source": [
        "# Funções úteis"
      ]
    },
    {
      "cell_type": "markdown",
      "metadata": {
        "id": "cwbcSYDdWtGL"
      },
      "source": [
        "### Obtenção de Trecho Randômico\n",
        "Ajuda a visualizar trechos diferentes dos dados.\n",
        "\n",
        "**ATENÇÃO:** Não substitui a análise sistemática dos dados."
      ]
    },
    {
      "cell_type": "code",
      "metadata": {
        "id": "HXwMZALXRclO"
      },
      "source": [
        "# função para randomizar o ponto de partida de uma amostra da lista\n",
        "# serve pra gente ver dados variados enquanto trabalha.\n",
        "# vai que temos algum insight enquanto vemos um trecho de\n",
        "# dados do meio da base e não os primeiros...\n",
        "# no pior caso descobrimos o nome louco de algum município.\n",
        "\n",
        "def randomInterval(lst: list, size: int=10) -> list:\n",
        "    inicio = random.randint(0, len(lst)-size)\n",
        "    return lst[inicio:inicio+size]\n",
        "\n",
        "# randomInterval(df,30) #df só vai ser definida no próximo bloco.\n",
        "#randomInterval([i for i in range(2000)], 30)"
      ],
      "execution_count": null,
      "outputs": []
    },
    {
      "cell_type": "markdown",
      "metadata": {
        "id": "M8Xn90Jb8GlS"
      },
      "source": [
        "# Desenvolvimento (Base Covid)"
      ]
    },
    {
      "cell_type": "markdown",
      "metadata": {
        "id": "KyOLHgy5XD6I"
      },
      "source": [
        "## Dados Gerais sobre a *Base*"
      ]
    },
    {
      "cell_type": "markdown",
      "metadata": {
        "id": "ScMRu_17XVnJ"
      },
      "source": [
        "### Colunas do Dataframe\n",
        "\n",
        "As colunas que podem ser desnecessárias:\n",
        "epidemiological_week\n",
        "\n",
        "As colunas que podem ser redundantes:\n",
        "estimated_population x estimated_population_2019\n"
      ]
    },
    {
      "cell_type": "code",
      "metadata": {
        "id": "4M5RIoj2YN5g"
      },
      "source": [
        "# colunas da tabela\n",
        "df.info()"
      ],
      "execution_count": null,
      "outputs": []
    },
    {
      "cell_type": "markdown",
      "metadata": {
        "id": "sfYG10WPXpFd"
      },
      "source": [
        "### Dados Gerais das Colunas do Dataframe"
      ]
    },
    {
      "cell_type": "markdown",
      "metadata": {
        "id": "FxZswp6rK7In"
      },
      "source": [
        "### Tipos de dados"
      ]
    },
    {
      "cell_type": "markdown",
      "metadata": {
        "id": "Aav7AVjtZsu1"
      },
      "source": [
        "### Conversão\n"
      ]
    },
    {
      "cell_type": "code",
      "metadata": {
        "id": "jEwGM6JBYv2m"
      },
      "source": [
        "categorical = ['city', 'city_ibge_code', 'state', 'place_type', 'state',\n",
        "               'is_last', 'is_repeated',]\n",
        "date = ['date', 'last_available_date', ]\n",
        "numerical = ['epidemiological_week', 'estimated_population','last_available_confirmed',\n",
        "             'last_available_confirmed_per_100k_inhabitants', 'last_available_death_rate',\n",
        "             'last_available_deaths', 'order_for_place', 'new_confirmed', 'new_deaths' ]\n",
        "\n",
        "# todas as colunas da base de dados original\n",
        "allOriginalColumns = categorical + date + numerical\n",
        "\n",
        "# id precisa ter o formato string repesentando um inteiro sem ponto.\n",
        "df['city_ibge_code'] = df['city_ibge_code'].astype('str').str.replace('\\.0','')\n",
        "\n",
        "# estimated_population e estimated_population_2019 estão com formato float\n",
        "# apesar de aparentemente todos os dados serem inteiros.\n",
        "\n",
        "# aplicação dos tipos em cada categoria de variavel.\n",
        "# Sarah disse que não é necessário o mask na linha abaixo. Precisamos analisar.\n",
        "# Acho que o isnull() é convertido para np.NaN automaticamente, enquanto\n",
        "# '' é convertido como se houvesse algo, então precisamos tratar esse caso específico.\n",
        "for col in categorical:\n",
        "    df[col] = df[col].astype('str').mask(df[col].isnull(), np.NaN)\n",
        "    \n",
        "for col in date:\n",
        "    df[col] = pd.to_datetime(df[col])\n",
        "\n",
        "#randomInterval (df, 10)\n",
        "df"
      ],
      "execution_count": null,
      "outputs": []
    },
    {
      "cell_type": "markdown",
      "metadata": {
        "id": "UwAZT6RXWjbN"
      },
      "source": [
        "### Tipos depois da conversão\n",
        "Tudo certo. Tipos checados."
      ]
    },
    {
      "cell_type": "code",
      "metadata": {
        "id": "_5QM2Pk_UyTo"
      },
      "source": [
        "### tipos depois da conversão\n",
        "df.info()"
      ],
      "execution_count": null,
      "outputs": []
    },
    {
      "cell_type": "markdown",
      "metadata": {
        "id": "uRuzBcm51788"
      },
      "source": [
        "### Describe\n",
        "Mostra que nossos dados em sua maioria são números de casos e mortes. Pra esses são interessantes os dados de média e dispersão. Pros demais não faz sentido verificar essas variáveis."
      ]
    },
    {
      "cell_type": "code",
      "metadata": {
        "id": "rJgS-B2EW-cG"
      },
      "source": [
        "df.describe()"
      ],
      "execution_count": null,
      "outputs": []
    },
    {
      "cell_type": "markdown",
      "metadata": {
        "id": "xdsMoPILkP-8"
      },
      "source": [
        "### Número de cidades\n",
        "\n",
        "Há na base dados de 5298 cidades distintas. O Brasil possui, de acordo com a Wikipedia, 5.570 municípios.\n",
        "\n",
        "Temos alguma informação de 95% deles."
      ]
    },
    {
      "cell_type": "code",
      "metadata": {
        "id": "Ipi0CJtDkXzU"
      },
      "source": [
        "df['city'].value_counts()"
      ],
      "execution_count": null,
      "outputs": []
    },
    {
      "cell_type": "markdown",
      "metadata": {
        "id": "qTOnlBfhm9ek"
      },
      "source": [
        "### Número de cidades que registraram pelo menos 100 casos (conferência)\n",
        "5.214 cidades das 5.298 que temos registro (98,4%) chegaram a registrar pelo menos 100 casos."
      ]
    },
    {
      "cell_type": "code",
      "metadata": {
        "id": "tIiUdVCunJOq"
      },
      "source": [
        "#display(randomInterval(df['city'].value_counts(),20).sort_values())\n",
        "(df[df['last_available_confirmed']>=100])['city'].value_counts()\n",
        "#df['city'].value_counts().describe()"
      ],
      "execution_count": null,
      "outputs": []
    },
    {
      "cell_type": "markdown",
      "metadata": {
        "id": "tnKtMwwix8z5"
      },
      "source": [
        "## Remoção de duplicatas\n",
        "Essa base não tem tuplas repetidas. Entretanto há um campo 'is_duplicated' que tem valor True quando os dados são de uma data passada e já existe uma linha anterior com os mesmos dados."
      ]
    },
    {
      "cell_type": "code",
      "metadata": {
        "id": "MPR4tCJKyCng"
      },
      "source": [
        "print(f'O Dataset possui {len(df.columns)} colunas e {len(df)} entradas')\n",
        "\n",
        "df.drop_duplicates(inplace=True)\n",
        "print(f'Removendo as linhas duplicadas ficamos com {len(df)} entradas no total')"
      ],
      "execution_count": null,
      "outputs": []
    },
    {
      "cell_type": "markdown",
      "metadata": {
        "id": "Qy4uU8EnWMvw"
      },
      "source": [
        "## Limpeza de nulos\n",
        "Os valores nulos na coluna cidade das linhas que representam os dados de estados são previstos.\n",
        "Os demais precisam ser verificados."
      ]
    },
    {
      "cell_type": "code",
      "metadata": {
        "id": "O5YEQOvnBxN3"
      },
      "source": [
        "df.isnull().sum()"
      ],
      "execution_count": null,
      "outputs": []
    },
    {
      "cell_type": "markdown",
      "metadata": {
        "id": "6poEjoxzoEGG"
      },
      "source": [
        "### Remoção das linhas com 'city' ==  'Importados/Indefinidos'\n",
        "\n",
        "Essas linhas não possuem informações relevantes. Foram descobertas através do campo 'estimated_population' nulo."
      ]
    },
    {
      "cell_type": "code",
      "metadata": {
        "id": "334QqFPOETpA"
      },
      "source": [
        "randomInterval(df.loc[df['estimated_population'].isnull()])"
      ],
      "execution_count": null,
      "outputs": []
    },
    {
      "cell_type": "code",
      "metadata": {
        "id": "rIJiKmtGqauv"
      },
      "source": [
        "df = df.loc[df['city']!='Importados/Indefinidos']"
      ],
      "execution_count": null,
      "outputs": []
    },
    {
      "cell_type": "markdown",
      "metadata": {
        "id": "7zUCjS0JENX2"
      },
      "source": [
        "### Amostra de linhas com valores nulos\n",
        "\n",
        "Esse resultado nos mostra que quando 'estimated_population' e 'estimated_population_2019' são null, não há informação na tabela e o valor de 'city' é a string 'Importados/Indefinidos'.\n",
        "\n",
        "Precisamos excluir essas linhas.\n",
        "\n",
        "Observamos que os nulls da coluna que mais tem nulos é inferior a 1% da base. Devemos verificar se essas lacunas têm ou não algum padrão."
      ]
    },
    {
      "cell_type": "markdown",
      "metadata": {
        "id": "mU-EJuer9wgG"
      },
      "source": [
        "### Nulos que ainda sobraram\n"
      ]
    },
    {
      "cell_type": "code",
      "metadata": {
        "id": "nKt0mRAI91qk"
      },
      "source": [
        "df.isnull().sum()"
      ],
      "execution_count": null,
      "outputs": []
    },
    {
      "cell_type": "markdown",
      "metadata": {
        "id": "6_rd1pAz-GXQ"
      },
      "source": [
        ""
      ]
    },
    {
      "cell_type": "markdown",
      "metadata": {
        "id": "tuq8SJ_a-ECK"
      },
      "source": [
        "### last_available_confirmed_per_100k_inhabitants\n",
        "\n",
        "\n",
        "####TODO Zerar a coluna last_avalaible_count_per_100k_inhabitants onde o valor de last_avalaible_confirmed é zero. Ou excluir as linhas com essa informação, o que eu acho justo, dado que não é uma informação relevante para a abertura ou fechamento de CNPJs."
      ]
    },
    {
      "cell_type": "code",
      "metadata": {
        "id": "myKA0WGW-HHv"
      },
      "source": [
        "#df[df['last_available_confirmed_per_100k_inhabitants'].isnull()]\n",
        "df[def['last_available_confirmed'].isnull()]"
      ],
      "execution_count": null,
      "outputs": []
    },
    {
      "cell_type": "code",
      "metadata": {
        "id": "Eg8bV2CBPyg2"
      },
      "source": [
        "l = np.nan\n",
        "math.isnan(l)"
      ],
      "execution_count": null,
      "outputs": []
    },
    {
      "cell_type": "markdown",
      "metadata": {
        "id": "qCc4D5AaTo7D"
      },
      "source": [
        "## Exclusão de 'date'\n",
        "\n",
        "A coluna 'Epidemiological_week' é composta pelo número do ano concatenado com o número da semana da data e 'date' é uma data futura ou igual à data dos últimos dados coletados antes do registro. De forma que ambas são menos informativas que a 'last_available_date' e serão eliminadas, sendo a 'last_available_date' renomeada para 'date' para ser usada com mais naturalidade.\n",
        "\n",
        "**Conclusão:** Remoção das duas colunas e renomeação para simplesmente 'date'"
      ]
    },
    {
      "cell_type": "code",
      "metadata": {
        "id": "QXGSGPEkT6Fi"
      },
      "source": [
        "#pd.to_datetime(df['last_available_date'], unit='s').corr(df['epidemiological_week'])\n",
        "randomInterval(df[['city', 'state', 'epidemiological_week', 'last_available_date', 'date']], 30)\n",
        "#randomInterval(df['last_available_date']-df['date']) # as colunas parecem ser iguais\n",
        "#(df['last_available_date']-df['date']).describe() # Não, as colunas não são iguais.\n"
      ],
      "execution_count": null,
      "outputs": []
    },
    {
      "cell_type": "code",
      "metadata": {
        "id": "WndIbsJkkAVs"
      },
      "source": [
        "# Exclusão de 'date'\n",
        "# df = df.drop('epidemiological_week', 1)\n",
        "df['date'] = df['last_available_date']\n",
        "df = df.drop('last_available_date', 1)\n",
        "randomInterval(df[['city', 'state', 'date', 'last_available_deaths' ]], 30)"
      ],
      "execution_count": null,
      "outputs": []
    },
    {
      "cell_type": "code",
      "metadata": {
        "id": "KSdmiE4flSKQ"
      },
      "source": [
        "df['date'] = df['last_available_date']\n",
        "df = df.drop('last_available_date', 1)"
      ],
      "execution_count": null,
      "outputs": []
    },
    {
      "cell_type": "markdown",
      "metadata": {
        "id": "ztWqtNwCy8ZN"
      },
      "source": [
        "###Histograma de 'last_available_date'\n",
        "Vamos ver quais as datas em que temos mais informação."
      ]
    },
    {
      "cell_type": "code",
      "metadata": {
        "id": "3clGPjS8zI8i"
      },
      "source": [
        "#df['last_available_date'].value_counts().hist()\n",
        "#last_date_av_df = df['state', 'last_available_date'].group_by(df['last_available_date'].month)\n",
        "#last_date_av_df.groupby(last_date_av_df[\"date\"].month).count().plot(kind=\"bar\")\n",
        "#last_date_av_df.value_counts().hist()\n",
        "#plt.pyplot.plot(last_date_av_df)\n",
        "len(last_date_av_df.value_counts())\n",
        "plt.pyplot.plot([i for i in range(len(last_date_av_df.value_counts()))], last_date_av_df.value_counts())"
      ],
      "execution_count": null,
      "outputs": []
    },
    {
      "cell_type": "markdown",
      "metadata": {
        "id": "AQku35xWXyLy"
      },
      "source": [
        "## Dados dos Estados (município não definido)"
      ]
    },
    {
      "cell_type": "code",
      "metadata": {
        "id": "KnMao-yvJQEP"
      },
      "source": [
        "(df[df['city'].isnull()]).to_csv('COVID_estados.csv')\n",
        "randomInterval(df[df['city'].isnull()], 20)"
      ],
      "execution_count": null,
      "outputs": []
    },
    {
      "cell_type": "code",
      "metadata": {
        "id": "jSOYi4cVVOYm"
      },
      "source": [
        "#dados das populações estimadas sem valor\n",
        "randomInterval(df[df['estimated_population'].isnull()], 20)"
      ],
      "execution_count": null,
      "outputs": []
    },
    {
      "cell_type": "code",
      "metadata": {
        "id": "sZVSBRk5MaHi"
      },
      "source": [
        "df[df['city']=='Ipatinga']\n",
        "#não é assim que se filtra os resultados de um município."
      ],
      "execution_count": null,
      "outputs": []
    },
    {
      "cell_type": "code",
      "metadata": {
        "id": "E20vglA3C7Bn"
      },
      "source": [
        "df.place_type.value_counts()"
      ],
      "execution_count": null,
      "outputs": []
    },
    {
      "cell_type": "markdown",
      "metadata": {
        "id": "GhdniEL33yJk"
      },
      "source": [
        "### Coluna Epidemiological_week e year_month\n",
        "A coluna Epidemiological_week foi removida por trazer informação redundante de data e não estar na granularidade de tempo que decidimos trabalhar. Criamos em seu lugar a coluna year_month."
      ]
    },
    {
      "cell_type": "markdown",
      "metadata": {
        "id": "7VUBfzBLbnEi"
      },
      "source": [
        "### Correlação entre as colunas\n",
        "r tem o quanto as variáveis são correlacionadas linearmente uma da outra. Seu sinal indica se a relação é direta ou inversa."
      ]
    },
    {
      "cell_type": "code",
      "metadata": {
        "id": "LxxGQ6L63660"
      },
      "source": [
        "#last_available_date = df['last_available_date']\n",
        "#epidemiological_week = df['epidemiological_week']\n",
        "#last_available_date.corr(epidemiological_week)\n",
        "df.corr()"
      ],
      "execution_count": null,
      "outputs": []
    },
    {
      "cell_type": "markdown",
      "metadata": {
        "id": "8B5gzclaZY1z"
      },
      "source": [
        "### Campo 'is_repeated'\n",
        "\n",
        "Esse campo é verdadeiro quando o campo 'last_avalaible_date' é o mesmo de uma linha anterior.\n",
        "\n",
        "**Conclusão:** \n",
        "Sempre que o valor for True, a linha pode ser removida. Quando as linhas forem eliminadas, a coluna também se torna desnecessária, podendo ser eliminada. São 8% das linhas removidas."
      ]
    },
    {
      "cell_type": "code",
      "metadata": {
        "id": "4LEnqUYTToVM"
      },
      "source": [
        "#df['is_repeated'].unique() # Tem True e False\n",
        "df['is_repeated'].value_counts() # \n",
        "#df[(df['is_repeated']==True) & (df['city']=='Ipatinga')] # 89 resutados em 503 de Ipatinga\n",
        "#df[df['city']=='Ipatinga']\n",
        "df = df[df['is_repeated']==False]"
      ],
      "execution_count": null,
      "outputs": []
    },
    {
      "cell_type": "markdown",
      "metadata": {
        "id": "cBCWoZp0KnB-"
      },
      "source": [
        "## Verificar linhas city = NaN\n"
      ]
    },
    {
      "cell_type": "markdown",
      "metadata": {
        "id": "jtuOVyQFOFCk"
      },
      "source": [
        "Verificar se filtrar linhas NaN (Que teoricamente represetam o estado) dá o mesmo valor de somar todos os municipios"
      ]
    },
    {
      "cell_type": "markdown",
      "metadata": {
        "id": "Saw85WAIWQpV"
      },
      "source": [
        "**Resultado:** Verificamos que as linhas NaN, apesar de representarem o somatorio do estado da linha acima, não refletem o real numero de casos."
      ]
    },
    {
      "cell_type": "markdown",
      "metadata": {
        "id": "q-3OiDbiTLD_"
      },
      "source": [
        "### Campo 'isLast'\n",
        "indica os dados da última data disponível que é da última data (2021-07-27).\n",
        "Podemos eliminar."
      ]
    },
    {
      "cell_type": "code",
      "metadata": {
        "id": "o7CRDUZ9NylN"
      },
      "source": [
        "#Cria tabela com linhas city = NaN\n",
        "\n",
        "tabela_NAN = df.loc[(df['city'].isnull() ) & (df['is_last'] == 'True')]\n",
        "tabela_NAN = tabela_NAN.sort_values(by=['last_available_death_rate'], ascending=False) \n",
        "tabela_NAN.head()\n",
        "\n",
        "#randomInterval(tabela_NAN, 10)\n",
        "#tabela_NAN.describe()\n",
        "df.drop('is_repeated')"
      ],
      "execution_count": null,
      "outputs": []
    },
    {
      "cell_type": "code",
      "metadata": {
        "id": "GWrMl6Y6VkMD"
      },
      "source": [
        "# Cria tabela somente com resultados de municipios excluindo valores NaN. \n",
        "#  Comparamos valores finais e entendemos que os resultados por estado, SP por exemplo, não batem.\n",
        "#    Ficamos com a tabela de municipios por oferecer uma maior segurança dos dados e também para correlacionarmos os dados com a tabela de alterações em CNPJs.\n",
        "\n",
        "tabela_municipios = df.loc[(df['city'].notnull() ) & (df['is_last'] == 'True')] #& (df['state'] == 'SP')\n",
        "#display(tabela_municipios)\n",
        "\n",
        "qtd_total = tabela_municipios.groupby('state')['last_available_deaths'].sum()\n",
        "print(qtd_total)"
      ],
      "execution_count": null,
      "outputs": []
    },
    {
      "cell_type": "code",
      "metadata": {
        "id": "zAqkTqiFWeSQ"
      },
      "source": [
        "# Tabela final\n",
        "\n",
        "tabela_municipios_last_date = df.loc[(df['city'].notnull() ) & (df['is_last'] == 'True')]\n",
        "tabela_municipios_evolucao_temporal = df.loc[(df['city'].notnull())]"
      ],
      "execution_count": null,
      "outputs": []
    },
    {
      "cell_type": "code",
      "metadata": {
        "id": "cclI5kvdZ4Gh"
      },
      "source": [
        "tabela_municipios_last_date.head()"
      ],
      "execution_count": null,
      "outputs": []
    },
    {
      "cell_type": "markdown",
      "metadata": {
        "id": "YJKtXIjbZpea"
      },
      "source": [
        "italicized text# Análise exploratória dos dados"
      ]
    },
    {
      "cell_type": "code",
      "metadata": {
        "id": "9o70mOYPc9Ol"
      },
      "source": [
        "# tabela filtrada com ultimas datas ------------->  tabela_municipios_last_date\n",
        "# tabela filtrada para obtermos evoluções temporais -----------> tabela_municipios_evolucao_temporal"
      ],
      "execution_count": null,
      "outputs": []
    },
    {
      "cell_type": "code",
      "metadata": {
        "id": "Lipv3AkbsuIY"
      },
      "source": [
        "# Periodo do dataframe (data minima e data maxima)\n",
        "\n",
        "print(' A menor data é: ' + str(tabela_municipios_evolucao_temporal['date'].min()))\n",
        "print(' A maior data é: ' + str(tabela_municipios_evolucao_temporal['date'].max()))"
      ],
      "execution_count": null,
      "outputs": []
    },
    {
      "cell_type": "code",
      "metadata": {
        "id": "pidhLHBFui5P"
      },
      "source": [
        "# Quantidade total de mortes\n",
        "\n",
        "qtd_total = tabela_municipios_last_date['last_available_deaths'].sum()\n",
        "\n",
        "print('A quantidade total de mortes no Brasil para o período avaliado é: ' + str(qtd_total))"
      ],
      "execution_count": null,
      "outputs": []
    },
    {
      "cell_type": "code",
      "metadata": {
        "id": "iw4FUlNNcq9y"
      },
      "source": [
        "# Groupby por estado\n",
        "\n",
        "qtd_estado = tabela_municipios_last_date.groupby('state').agg({'last_available_deaths':'sum',\n",
        "                                                              'estimated_population':'sum',\n",
        "                                                              }).reset_index()\n",
        "qtd_estado['Taxa mortalidade'] = qtd_estado['last_available_deaths']/qtd_estado['estimated_population']\n",
        "qtd_estado['Mortes a cada 1k'] = (qtd_estado['last_available_deaths'] * 1000)/qtd_estado['estimated_population']\n",
        "qtd_estado = qtd_estado.sort_values(by=['Taxa mortalidade'], ascending=False)\n",
        "qtd_estado.head(10)"
      ],
      "execution_count": null,
      "outputs": []
    },
    {
      "cell_type": "code",
      "metadata": {
        "id": "ntFYiWFJHDEt"
      },
      "source": [
        "tabela_MT = tabela_municipios_last_date.loc[(df['state'] == 'MT')]\n",
        "tabela_MT = tabela_MT.sort_values(by=['last_available_deaths'], ascending=False)\n",
        "tabela_MT['tx_mortalidade'] = tabela_MT['last_available_deaths']/tabela_MT['estimated_population']\n",
        "tabela_MT.head()"
      ],
      "execution_count": null,
      "outputs": []
    }
  ]
}